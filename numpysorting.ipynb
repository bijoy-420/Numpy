{
 "cells": [
  {
   "cell_type": "code",
   "execution_count": 23,
   "id": "50c2d60f-b931-4c2d-9393-d6a14796d363",
   "metadata": {},
   "outputs": [
    {
     "name": "stdout",
     "output_type": "stream",
     "text": [
      "[2 3 4 5]\n",
      "[0 2 3 4 5]\n",
      "None\n"
     ]
    }
   ],
   "source": [
    "import numpy as np\n",
    "\n",
    "arr= np.array([1,2,3,4,5])\n",
    "print(arr[1:])\n",
    "arr.copy()\n",
    "x=arr.view()\n",
    "x[0]=0\n",
    "print(x.base)\n",
    "print(arr.base\n",
    "     )"
   ]
  },
  {
   "cell_type": "code",
   "execution_count": 18,
   "id": "2211913c-04de-41ad-b9c0-c15f243e640d",
   "metadata": {},
   "outputs": [
    {
     "name": "stdout",
     "output_type": "stream",
     "text": [
      "[1.2 3.2 4.3 5.4]\n",
      "|S32\n"
     ]
    }
   ],
   "source": [
    "arr=np.array([1.2,3.2,4.3,5.4])\n",
    "x=arr.astype(\"S\")\n",
    "print(arr)\n",
    "print(x.dtype)"
   ]
  },
  {
   "cell_type": "code",
   "execution_count": 38,
   "id": "546ae8ec-26b1-4c66-a88e-15c293b1ccd1",
   "metadata": {},
   "outputs": [
    {
     "name": "stdout",
     "output_type": "stream",
     "text": [
      "1\n",
      "2\n",
      "3\n",
      "4\n",
      "5\n",
      "6\n",
      "7\n",
      "8\n",
      "9\n",
      "10\n",
      "11\n",
      "12\n"
     ]
    }
   ],
   "source": [
    "a=np.array([[1,2,3,4,5],[2,3,4,4,5],[3,4,5,5,2]])\n",
    "\n",
    "for i in np.nditer(arr):\n",
    "    print(i)"
   ]
  },
  {
   "cell_type": "code",
   "execution_count": 35,
   "id": "b9f3903c-e48d-4d14-9e5a-08e2ace2da3a",
   "metadata": {},
   "outputs": [
    {
     "name": "stdout",
     "output_type": "stream",
     "text": [
      "1\n",
      "2\n",
      "3\n",
      "4\n",
      "3\n",
      "4\n",
      "4\n",
      "5\n"
     ]
    }
   ],
   "source": [
    "x=np.array([[1,2,3,4],[3,4,4,5]])\n",
    "for i in x:\n",
    "    for j in i:\n",
    "        \n",
    "        print(j)"
   ]
  },
  {
   "cell_type": "code",
   "execution_count": 33,
   "id": "f33a499a-afd0-4fce-8f8f-2993c1e0e534",
   "metadata": {},
   "outputs": [
    {
     "name": "stdout",
     "output_type": "stream",
     "text": [
      "[ 1  2  3  4  5  6  7  8  9 10 11 12]\n",
      "[[1 2]\n",
      " [3 4]\n",
      " [5 6]]\n",
      "[[ 7  8]\n",
      " [ 9 10]\n",
      " [11 12]]\n"
     ]
    }
   ],
   "source": [
    "arr=np.array([1,2,3,4,5,6,7,8,9,10,11,12])\n",
    "new=arr.reshape(2,3,2)\n",
    "print(new.base)\n",
    "for i in new:\n",
    "    print (i)"
   ]
  },
  {
   "cell_type": "code",
   "execution_count": 41,
   "id": "87553f5d-e117-4fe5-8e21-6ae44664b18e",
   "metadata": {},
   "outputs": [
    {
     "name": "stdout",
     "output_type": "stream",
     "text": [
      "[ 1  2  3  4  5  6  7  8  9 10]\n"
     ]
    }
   ],
   "source": [
    "#join two or more array\n",
    "arr1=np.array([1,2,3,4,5])\n",
    "arr2=np.array([6,7,8,9,10])\n",
    "arr=np.concatenate((arr1,arr2))\n",
    "print(arr)"
   ]
  },
  {
   "cell_type": "code",
   "execution_count": 49,
   "id": "89855fec-cf7d-4b73-9393-9b939e37e61a",
   "metadata": {},
   "outputs": [
    {
     "name": "stdout",
     "output_type": "stream",
     "text": [
      "[[[ 1  6]\n",
      "  [ 2  7]\n",
      "  [ 3  8]\n",
      "  [ 4  9]\n",
      "  [ 5 10]]\n",
      "\n",
      " [[ 3  2]\n",
      "  [ 4  3]\n",
      "  [ 5  1]\n",
      "  [ 3  1]\n",
      "  [ 2  3]]]\n"
     ]
    }
   ],
   "source": [
    "#join two or more array\n",
    "arr1=np.array([[1,2,3,4,5],[3,4,5,3,2]])\n",
    "arr2=np.array([[6,7,8,9,10],[2,3,1,1,3]])\n",
    "arr=np.dstack((arr1,arr2))\n",
    "print(arr)"
   ]
  },
  {
   "cell_type": "code",
   "execution_count": 50,
   "id": "f44862a3-3808-443b-98f2-1642ed0954b2",
   "metadata": {},
   "outputs": [
    {
     "name": "stdout",
     "output_type": "stream",
     "text": [
      "[array([1, 2, 3, 4]), array([5, 6, 7, 8]), array([ 9, 10, 11, 12])]\n"
     ]
    }
   ],
   "source": [
    "arr=np.array([1,2,3,4,5,6,7,8,9,10,2,4,1,0,11,12,3])\n",
    "new =np.array_split(arr,3)\n",
    "print(new)"
   ]
  },
  {
   "cell_type": "code",
   "execution_count": 51,
   "id": "729db62d-cdb1-4e99-ba6d-c040a25ed21d",
   "metadata": {},
   "outputs": [
    {
     "name": "stdout",
     "output_type": "stream",
     "text": [
      "[ 0  1  1  2  2  3  3  4  4  5  6  7  8  9 10 11 12]\n"
     ]
    }
   ],
   "source": [
    "arr=np.array([1,2,3,4,5,6,7,8,9,10,2,4,1,0,11,12,3])\n",
    "print(np.sort(arr))"
   ]
  }
 ],
 "metadata": {
  "kernelspec": {
   "display_name": "Python 3 (ipykernel)",
   "language": "python",
   "name": "python3"
  },
  "language_info": {
   "codemirror_mode": {
    "name": "ipython",
    "version": 3
   },
   "file_extension": ".py",
   "mimetype": "text/x-python",
   "name": "python",
   "nbconvert_exporter": "python",
   "pygments_lexer": "ipython3",
   "version": "3.12.7"
  }
 },
 "nbformat": 4,
 "nbformat_minor": 5
}
