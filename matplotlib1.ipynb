{
 "cells": [
  {
   "cell_type": "code",
   "execution_count": 1,
   "id": "20d337a7-ad80-4b3c-a3bf-74cfbd2d6a81",
   "metadata": {},
   "outputs": [],
   "source": [
    "##outliers \n"
   ]
  },
  {
   "cell_type": "code",
   "execution_count": 17,
   "id": "59f69e18-a5f3-4208-b03c-d2cb7f6a11ed",
   "metadata": {},
   "outputs": [],
   "source": [
    "import numpy as np\n",
    "import matplotlib.pyplot as plt\n",
    "%matplotlib inline\n"
   ]
  },
  {
   "cell_type": "code",
   "execution_count": 18,
   "id": "faa981cb-9180-4492-8801-cb4108db985b",
   "metadata": {},
   "outputs": [],
   "source": [
    "##define our dataset\n",
    "dataset=[11,10,12,14,15,14,13,15,102,12,14,17,19,107,10,13,12,14,12,108,12,11,14,13,15,12,10,14,13,15,10]"
   ]
  },
  {
   "cell_type": "code",
   "execution_count": 29,
   "id": "d8d2db6f-076f-4236-b9aa-f8f25d9d8b42",
   "metadata": {},
   "outputs": [
    {
     "data": {
      "text/plain": [
       "(array([28.,  0.,  0.,  0.,  0.,  0.,  0.,  0.,  0.,  3.]),\n",
       " array([ 10. ,  19.8,  29.6,  39.4,  49.2,  59. ,  68.8,  78.6,  88.4,\n",
       "         98.2, 108. ]),\n",
       " <BarContainer object of 10 artists>)"
      ]
     },
     "execution_count": 29,
     "metadata": {},
     "output_type": "execute_result"
    }
   ],
   "source": [
    "plt.hist(dataset)"
   ]
  },
  {
   "cell_type": "code",
   "execution_count": 24,
   "id": "39073cc7-6e5c-4fb2-a6ba-900858f02f8c",
   "metadata": {},
   "outputs": [],
   "source": [
    "outliers=[]\n",
    "def detect_outliers(data):\n",
    "    threshold=3\n",
    "    mean=np.mean(data)\n",
    "    std=np.std(data)\n",
    "\n",
    "    for i in data:\n",
    "        z_score=(i-mean)/std\n",
    "        if np.abs(z_score)>threshold:\n",
    "            outliers.append(i)\n",
    "    return outliers\n",
    "    "
   ]
  },
  {
   "cell_type": "code",
   "execution_count": 30,
   "id": "ba003628-0c70-432b-ae4d-546a322edf1c",
   "metadata": {},
   "outputs": [
    {
     "data": {
      "text/plain": [
       "[107, 108]"
      ]
     },
     "execution_count": 30,
     "metadata": {},
     "output_type": "execute_result"
    }
   ],
   "source": [
    "detect_outliers(dataset)"
   ]
  },
  {
   "cell_type": "code",
   "execution_count": 31,
   "id": "f8392e4a-82c5-4223-847b-6eb8c51583b6",
   "metadata": {},
   "outputs": [
    {
     "ename": "SyntaxError",
     "evalue": "invalid decimal literal (1401775837.py, line 2)",
     "output_type": "error",
     "traceback": [
      "\u001b[1;36m  Cell \u001b[1;32mIn[31], line 2\u001b[1;36m\u001b[0m\n\u001b[1;33m    1.sort the data\u001b[0m\n\u001b[1;37m     ^\u001b[0m\n\u001b[1;31mSyntaxError\u001b[0m\u001b[1;31m:\u001b[0m invalid decimal literal\n"
     ]
    }
   ],
   "source": [
    "##IQR\n",
    "1.sort the data\n",
    "2.calculate Q1 and Q3\n",
    "3.IQR(Q3-Q1)\n",
    "4.find the lower fence(q1 - 1.5*iqr)\n",
    "5.fing the upper fence(q3 + 1.5*iqr)"
   ]
  },
  {
   "cell_type": "code",
   "execution_count": 34,
   "id": "c3d11513-e0b8-44f2-a064-45c207667d09",
   "metadata": {},
   "outputs": [],
   "source": [
    "dataset=sorted(dataset)"
   ]
  },
  {
   "cell_type": "code",
   "execution_count": 36,
   "id": "da4a6574-8ece-4248-8dd2-24870356e364",
   "metadata": {},
   "outputs": [],
   "source": [
    "q1,q3=np.percentile(dataset,[25,75])"
   ]
  },
  {
   "cell_type": "code",
   "execution_count": 38,
   "id": "e5ab5e67-4167-4f00-a8d3-227433097ee1",
   "metadata": {},
   "outputs": [
    {
     "name": "stdout",
     "output_type": "stream",
     "text": [
      "12.0 15.0\n"
     ]
    }
   ],
   "source": [
    "print(q1,q3)"
   ]
  },
  {
   "cell_type": "code",
   "execution_count": 40,
   "id": "f13ffbca-1fd6-463f-a12c-4d0117015403",
   "metadata": {},
   "outputs": [],
   "source": [
    "iqr=q3-q1"
   ]
  },
  {
   "cell_type": "code",
   "execution_count": 41,
   "id": "f17b9f14-6558-4b2c-a568-30015e763ca8",
   "metadata": {},
   "outputs": [
    {
     "data": {
      "text/plain": [
       "3.0"
      ]
     },
     "execution_count": 41,
     "metadata": {},
     "output_type": "execute_result"
    }
   ],
   "source": [
    "iqr"
   ]
  },
  {
   "cell_type": "code",
   "execution_count": 42,
   "id": "33738f81-d7fc-48a6-8660-9360b7ded9b3",
   "metadata": {},
   "outputs": [],
   "source": [
    "l_fence=q1-1.5*iqr"
   ]
  },
  {
   "cell_type": "code",
   "execution_count": 43,
   "id": "a68715cb-fd52-4d46-87a2-0b635a3577bd",
   "metadata": {},
   "outputs": [],
   "source": [
    "u_fence=q3+1.5*iqr"
   ]
  },
  {
   "cell_type": "code",
   "execution_count": 45,
   "id": "137f432e-27b2-485f-aafc-60197e6c3087",
   "metadata": {},
   "outputs": [
    {
     "name": "stdout",
     "output_type": "stream",
     "text": [
      "7.5 19.5\n"
     ]
    }
   ],
   "source": [
    "print(l_fence,u_fence)"
   ]
  },
  {
   "cell_type": "code",
   "execution_count": 46,
   "id": "f7bba138-e002-46ca-8bb3-4df602b5f04c",
   "metadata": {},
   "outputs": [],
   "source": [
    "import seaborn as sns"
   ]
  },
  {
   "cell_type": "code",
   "execution_count": 47,
   "id": "ce92d12f-d576-499b-8fdc-4a61cd240a93",
   "metadata": {},
   "outputs": [
    {
     "data": {
      "text/plain": [
       "<Axes: >"
      ]
     },
     "execution_count": 47,
     "metadata": {},
     "output_type": "execute_result"
    }
   ],
   "source": [
    "sns.boxplot(dataset)"
   ]
  }
 ],
 "metadata": {
  "kernelspec": {
   "display_name": "Python 3 (ipykernel)",
   "language": "python",
   "name": "python3"
  },
  "language_info": {
   "codemirror_mode": {
    "name": "ipython",
    "version": 3
   },
   "file_extension": ".py",
   "mimetype": "text/x-python",
   "name": "python",
   "nbconvert_exporter": "python",
   "pygments_lexer": "ipython3",
   "version": "3.12.7"
  }
 },
 "nbformat": 4,
 "nbformat_minor": 5
}
