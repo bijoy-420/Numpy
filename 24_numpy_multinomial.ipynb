{
 "cells": [
  {
   "cell_type": "code",
   "execution_count": 2,
   "id": "9e67db74-8f82-4055-a3a6-d9e7083880d7",
   "metadata": {},
   "outputs": [
    {
     "name": "stdout",
     "output_type": "stream",
     "text": [
      "[1 1 0 1 0 3]\n"
     ]
    }
   ],
   "source": [
    "#Multinomial  dist-it is a generalization of binomial dist\n",
    "#parameters-n(number of outcome),pvals(list of possibility ),size\n",
    "#multinomial samples will not produce a single value,they will produce one value for each pvals.\n",
    "\n",
    "#draw out a sample for dice roll:\n",
    "from numpy import random\n",
    "shared=random.multinomial(n=6,pvals=[1/6,1/6,1/6,1/6,1/6,1/6])\n",
    "print(shared)"
   ]
  },
  {
   "cell_type": "code",
   "execution_count": 4,
   "id": "076a7168-4bf1-4db6-b298-ddb77fc2388a",
   "metadata": {},
   "outputs": [
    {
     "ename": "TypeError",
     "evalue": "multinomial() takes at least 2 positional arguments (1 given)",
     "output_type": "error",
     "traceback": [
      "\u001b[1;31m---------------------------------------------------------------------------\u001b[0m",
      "\u001b[1;31mTypeError\u001b[0m                                 Traceback (most recent call last)",
      "Cell \u001b[1;32mIn[4], line 5\u001b[0m\n\u001b[0;32m      3\u001b[0m \u001b[38;5;28;01mimport\u001b[39;00m \u001b[38;5;21;01mmatplotlib\u001b[39;00m\u001b[38;5;21;01m.\u001b[39;00m\u001b[38;5;21;01mpyplot\u001b[39;00m \u001b[38;5;28;01mas\u001b[39;00m \u001b[38;5;21;01mplt\u001b[39;00m\n\u001b[0;32m      4\u001b[0m \u001b[38;5;28;01mimport\u001b[39;00m \u001b[38;5;21;01mseaborn\u001b[39;00m \u001b[38;5;28;01mas\u001b[39;00m \u001b[38;5;21;01msns\u001b[39;00m\n\u001b[1;32m----> 5\u001b[0m sns\u001b[38;5;241m.\u001b[39mdistplot(random\u001b[38;5;241m.\u001b[39mmultinomial(n\u001b[38;5;241m=\u001b[39m\u001b[38;5;241m10\u001b[39m,size\u001b[38;5;241m=\u001b[39m\u001b[38;5;241m1000\u001b[39m),hist\u001b[38;5;241m=\u001b[39m\u001b[38;5;28;01mFalse\u001b[39;00m)\n\u001b[0;32m      6\u001b[0m plt\u001b[38;5;241m.\u001b[39mshow()\n",
      "File \u001b[1;32mnumpy\\\\random\\\\mtrand.pyx:4257\u001b[0m, in \u001b[0;36mnumpy.random.mtrand.RandomState.multinomial\u001b[1;34m()\u001b[0m\n",
      "\u001b[1;31mTypeError\u001b[0m: multinomial() takes at least 2 positional arguments (1 given)"
     ]
    }
   ],
   "source": [
    "#visualization of multinomial dist\n",
    "from numpy import random\n",
    "import matplotlib.pyplot as plt\n",
    "import seaborn as sns\n",
    "sns.distplot(random.multinomial(n=10,size=1000),hist=False)\n",
    "plt.show()"
   ]
  }
 ],
 "metadata": {
  "kernelspec": {
   "display_name": "Python 3 (ipykernel)",
   "language": "python",
   "name": "python3"
  },
  "language_info": {
   "codemirror_mode": {
    "name": "ipython",
    "version": 3
   },
   "file_extension": ".py",
   "mimetype": "text/x-python",
   "name": "python",
   "nbconvert_exporter": "python",
   "pygments_lexer": "ipython3",
   "version": "3.12.7"
  }
 },
 "nbformat": 4,
 "nbformat_minor": 5
}
